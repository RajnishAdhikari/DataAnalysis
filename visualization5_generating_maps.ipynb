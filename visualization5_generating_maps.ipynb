{
 "cells": [
  {
   "cell_type": "code",
   "execution_count": 1,
   "metadata": {},
   "outputs": [],
   "source": [
    "# # Introduction to Folium\n",
    "# # Folium is a powerful Python library that helps you create several types of Leaflet maps. The fact that the \n",
    "# # Folium results are interactive makes this library very useful for dashboard building.\n",
    "\n",
    "\n",
    "# Folium builds on the data wrangling strengths of the Python ecosystem and the mapping strengths of the \n",
    "# Leaflet.js library. Manipulate your data in Python, then visualize it in on a Leaflet map via Folium.\n",
    "\n",
    "# Folium makes it easy to visualize data that's been manipulated in Python on an interactive Leaflet map. \n",
    "# It enables both the binding of data to a map for choropleth visualizations as well as passing Vincent/Vega \n",
    "# visualizations as markers on the map.\n",
    "\n",
    "# The library has a number of built-in tilesets from OpenStreetMap, Mapbox, and Stamen, and supports custom \n",
    "# tilesets with Mapbox or Cloudmade API keys. Folium supports both GeoJSON and TopoJSON overlays, as well as \n",
    "# the binding of data to those overlays to create choropleth maps with color-brewer color schemes.\n",
    "\n",
    "\n",
    "\n"
   ]
  },
  {
   "cell_type": "code",
   "execution_count": null,
   "metadata": {},
   "outputs": [],
   "source": []
  }
 ],
 "metadata": {
  "kernelspec": {
   "display_name": "Python 3",
   "language": "python",
   "name": "python3"
  },
  "language_info": {
   "codemirror_mode": {
    "name": "ipython",
    "version": 3
   },
   "file_extension": ".py",
   "mimetype": "text/x-python",
   "name": "python",
   "nbconvert_exporter": "python",
   "pygments_lexer": "ipython3",
   "version": "3.11.2"
  },
  "orig_nbformat": 4
 },
 "nbformat": 4,
 "nbformat_minor": 2
}

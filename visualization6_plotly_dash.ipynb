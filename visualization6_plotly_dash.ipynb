{
 "cells": [
  {
   "cell_type": "code",
   "execution_count": 1,
   "metadata": {},
   "outputs": [],
   "source": [
    "# Plotly graph objects and Plotly express libraries to plot different types of charts"
   ]
  },
  {
   "cell_type": "code",
   "execution_count": 2,
   "metadata": {},
   "outputs": [],
   "source": [
    "# Plotly Libraries\n",
    "# plotly.graph_objects: This is a low level interface to figures, traces and layout. The Plotly graph objects module \n",
    "# provides an automatically generated hierarchy of classes ( figures, traces, and layout) called graph objects. \n",
    "# These graph objects represent figures with a top-level class plotly.graph_objects.Figure."
   ]
  },
  {
   "cell_type": "code",
   "execution_count": 3,
   "metadata": {},
   "outputs": [],
   "source": [
    "# plotly.express: Plotly express is a high-level wrapper for Plotly. It is a recommended starting point for creating \n",
    "# the most common figures provided by Plotly using a simpler syntax. It uses graph objects internally. Now let us use \n",
    "# these libraries to plot some charts We will start with plotly_graph_objects to plot line and scatter plots"
   ]
  },
  {
   "cell_type": "code",
   "execution_count": 4,
   "metadata": {},
   "outputs": [],
   "source": [
    "# Getting Started with Different Chart types in Plotly"
   ]
  },
  {
   "cell_type": "code",
   "execution_count": 6,
   "metadata": {},
   "outputs": [],
   "source": [
    "# Import required libraries\n",
    "import pandas as pd\n",
    "import numpy as np\n",
    "import plotly\n",
    "import plotly.express as px\n",
    "import plotly.graph_objects as go"
   ]
  },
  {
   "cell_type": "code",
   "execution_count": 7,
   "metadata": {},
   "outputs": [],
   "source": [
    "# # 1. Scatter Plot\n",
    "# # A scatter plot shows the relationship between 2 variables on the x and y-axis. The data points here appear \n",
    "# scattered when plotted on a two-dimensional plane. Using scatter plots, we can create exciting visualizations \n",
    "# to express various relationships, such as:\n",
    "\n",
    "# # Height vs weight of persons\n",
    "# # Engine size vs automobile price\n",
    "# # # Exercise time vs Body Fat"
   ]
  },
  {
   "cell_type": "code",
   "execution_count": 8,
   "metadata": {},
   "outputs": [],
   "source": [
    "##Example 1: illustrating the income vs age of people in a scatter plot\n",
    "\n",
    "age_array=np.random.randint(25,55,60)"
   ]
  },
  {
   "cell_type": "code",
   "execution_count": 9,
   "metadata": {},
   "outputs": [],
   "source": [
    "# Defining an array containing salesamount values \n",
    "income_array=np.random.randint(300000,700000,3000000)"
   ]
  },
  {
   "cell_type": "code",
   "execution_count": 10,
   "metadata": {},
   "outputs": [
    {
     "ename": "ModuleNotFoundError",
     "evalue": "No module named 'plotly.validators.layout'",
     "output_type": "error",
     "traceback": [
      "\u001b[1;31m---------------------------------------------------------------------------\u001b[0m",
      "\u001b[1;31mModuleNotFoundError\u001b[0m                       Traceback (most recent call last)",
      "Cell \u001b[1;32mIn[10], line 2\u001b[0m\n\u001b[0;32m      1\u001b[0m \u001b[39m##First we will create an empty figure using go.Figure()\u001b[39;00m\n\u001b[1;32m----> 2\u001b[0m fig\u001b[39m=\u001b[39mgo\u001b[39m.\u001b[39;49mFigure()\n\u001b[0;32m      3\u001b[0m fig\n",
      "File \u001b[1;32mc:\\Users\\PC\\AppData\\Local\\Programs\\Python\\Python311\\Lib\\site-packages\\plotly\\graph_objs\\_figure.py:629\u001b[0m, in \u001b[0;36mFigure.__init__\u001b[1;34m(self, data, layout, frames, skip_invalid, **kwargs)\u001b[0m\n\u001b[0;32m      5\u001b[0m \u001b[39mdef\u001b[39;00m \u001b[39m__init__\u001b[39m(\n\u001b[0;32m      6\u001b[0m     \u001b[39mself\u001b[39m, data\u001b[39m=\u001b[39m\u001b[39mNone\u001b[39;00m, layout\u001b[39m=\u001b[39m\u001b[39mNone\u001b[39;00m, frames\u001b[39m=\u001b[39m\u001b[39mNone\u001b[39;00m, skip_invalid\u001b[39m=\u001b[39m\u001b[39mFalse\u001b[39;00m, \u001b[39m*\u001b[39m\u001b[39m*\u001b[39mkwargs\n\u001b[0;32m      7\u001b[0m ):\n\u001b[0;32m      8\u001b[0m \u001b[39m    \u001b[39m\u001b[39m\"\"\"\u001b[39;00m\n\u001b[0;32m      9\u001b[0m \u001b[39m    Create a new :class:Figure instance\u001b[39;00m\n\u001b[0;32m     10\u001b[0m \n\u001b[1;32m   (...)\u001b[0m\n\u001b[0;32m    627\u001b[0m \u001b[39m        is invalid AND skip_invalid is False\u001b[39;00m\n\u001b[0;32m    628\u001b[0m \u001b[39m    \"\"\"\u001b[39;00m\n\u001b[1;32m--> 629\u001b[0m     \u001b[39msuper\u001b[39;49m(Figure, \u001b[39mself\u001b[39;49m)\u001b[39m.\u001b[39;49m\u001b[39m__init__\u001b[39;49m(data, layout, frames, skip_invalid, \u001b[39m*\u001b[39;49m\u001b[39m*\u001b[39;49mkwargs)\n",
      "File \u001b[1;32mc:\\Users\\PC\\AppData\\Local\\Programs\\Python\\Python311\\Lib\\site-packages\\plotly\\basedatatypes.py:631\u001b[0m, in \u001b[0;36mBaseFigure.__init__\u001b[1;34m(self, data, layout_plotly, frames, skip_invalid, **kwargs)\u001b[0m\n\u001b[0;32m    626\u001b[0m \u001b[39mself\u001b[39m\u001b[39m.\u001b[39m_animation_easing_validator \u001b[39m=\u001b[39m animation\u001b[39m.\u001b[39mEasingValidator()\n\u001b[0;32m    628\u001b[0m \u001b[39m# Template\u001b[39;00m\n\u001b[0;32m    629\u001b[0m \u001b[39m# --------\u001b[39;00m\n\u001b[0;32m    630\u001b[0m \u001b[39m# ### Check for default template ###\u001b[39;00m\n\u001b[1;32m--> 631\u001b[0m \u001b[39mself\u001b[39;49m\u001b[39m.\u001b[39;49m_initialize_layout_template()\n\u001b[0;32m    633\u001b[0m \u001b[39m# Process kwargs\u001b[39;00m\n\u001b[0;32m    634\u001b[0m \u001b[39m# --------------\u001b[39;00m\n\u001b[0;32m    635\u001b[0m \u001b[39mfor\u001b[39;00m k, v \u001b[39min\u001b[39;00m kwargs\u001b[39m.\u001b[39mitems():\n",
      "File \u001b[1;32mc:\\Users\\PC\\AppData\\Local\\Programs\\Python\\Python311\\Lib\\site-packages\\plotly\\basedatatypes.py:2514\u001b[0m, in \u001b[0;36mBaseFigure._initialize_layout_template\u001b[1;34m(self)\u001b[0m\n\u001b[0;32m   2511\u001b[0m     \u001b[39melse\u001b[39;00m:\n\u001b[0;32m   2512\u001b[0m         \u001b[39m# Name of registered template object\u001b[39;00m\n\u001b[0;32m   2513\u001b[0m         template_object \u001b[39m=\u001b[39m pio\u001b[39m.\u001b[39mtemplates[pio\u001b[39m.\u001b[39mtemplates\u001b[39m.\u001b[39mdefault]\n\u001b[1;32m-> 2514\u001b[0m     \u001b[39mself\u001b[39;49m\u001b[39m.\u001b[39;49m_layout_obj\u001b[39m.\u001b[39;49mtemplate \u001b[39m=\u001b[39m template_object\n\u001b[0;32m   2515\u001b[0m \u001b[39mfinally\u001b[39;00m:\n\u001b[0;32m   2516\u001b[0m     \u001b[39mself\u001b[39m\u001b[39m.\u001b[39m_layout_obj\u001b[39m.\u001b[39m_validate \u001b[39m=\u001b[39m \u001b[39mself\u001b[39m\u001b[39m.\u001b[39m_validate\n",
      "File \u001b[1;32mc:\\Users\\PC\\AppData\\Local\\Programs\\Python\\Python311\\Lib\\site-packages\\plotly\\basedatatypes.py:5866\u001b[0m, in \u001b[0;36mBaseLayoutType.__setattr__\u001b[1;34m(self, prop, value)\u001b[0m\n\u001b[0;32m   5863\u001b[0m match \u001b[39m=\u001b[39m \u001b[39mself\u001b[39m\u001b[39m.\u001b[39m_subplot_re_match(prop)\n\u001b[0;32m   5864\u001b[0m \u001b[39mif\u001b[39;00m match \u001b[39mis\u001b[39;00m \u001b[39mNone\u001b[39;00m:\n\u001b[0;32m   5865\u001b[0m     \u001b[39m# Set as ordinary property\u001b[39;00m\n\u001b[1;32m-> 5866\u001b[0m     \u001b[39msuper\u001b[39;49m(BaseLayoutHierarchyType, \u001b[39mself\u001b[39;49m)\u001b[39m.\u001b[39;49m\u001b[39m__setattr__\u001b[39;49m(prop, value)\n\u001b[0;32m   5867\u001b[0m \u001b[39melse\u001b[39;00m:\n\u001b[0;32m   5868\u001b[0m     \u001b[39m# Set as subplotid property\u001b[39;00m\n\u001b[0;32m   5869\u001b[0m     \u001b[39mself\u001b[39m\u001b[39m.\u001b[39m_set_subplotid_prop(prop, value)\n",
      "File \u001b[1;32mc:\\Users\\PC\\AppData\\Local\\Programs\\Python\\Python311\\Lib\\site-packages\\plotly\\basedatatypes.py:4904\u001b[0m, in \u001b[0;36mBasePlotlyType.__setattr__\u001b[1;34m(self, prop, value)\u001b[0m\n\u001b[0;32m   4892\u001b[0m \u001b[39mdef\u001b[39;00m \u001b[39m__setattr__\u001b[39m(\u001b[39mself\u001b[39m, prop, value):\n\u001b[0;32m   4893\u001b[0m \u001b[39m    \u001b[39m\u001b[39m\"\"\"\u001b[39;00m\n\u001b[0;32m   4894\u001b[0m \u001b[39m    Parameters\u001b[39;00m\n\u001b[0;32m   4895\u001b[0m \u001b[39m    ----------\u001b[39;00m\n\u001b[1;32m   (...)\u001b[0m\n\u001b[0;32m   4902\u001b[0m \u001b[39m    None\u001b[39;00m\n\u001b[0;32m   4903\u001b[0m \u001b[39m    \"\"\"\u001b[39;00m\n\u001b[1;32m-> 4904\u001b[0m     \u001b[39mif\u001b[39;00m prop\u001b[39m.\u001b[39mstartswith(\u001b[39m\"\u001b[39m\u001b[39m_\u001b[39m\u001b[39m\"\u001b[39m) \u001b[39mor\u001b[39;00m \u001b[39mhasattr\u001b[39m(\u001b[39mself\u001b[39m, prop) \u001b[39mor\u001b[39;00m prop \u001b[39min\u001b[39;00m \u001b[39mself\u001b[39m\u001b[39m.\u001b[39m_valid_props:\n\u001b[0;32m   4905\u001b[0m         \u001b[39m# Let known properties and private properties through\u001b[39;00m\n\u001b[0;32m   4906\u001b[0m         \u001b[39msuper\u001b[39m(BasePlotlyType, \u001b[39mself\u001b[39m)\u001b[39m.\u001b[39m\u001b[39m__setattr__\u001b[39m(prop, value)\n\u001b[0;32m   4907\u001b[0m     \u001b[39melse\u001b[39;00m:\n\u001b[0;32m   4908\u001b[0m         \u001b[39m# Raise error on unknown public properties\u001b[39;00m\n",
      "File \u001b[1;32mc:\\Users\\PC\\AppData\\Local\\Programs\\Python\\Python311\\Lib\\site-packages\\plotly\\graph_objs\\_layout.py:3546\u001b[0m, in \u001b[0;36mLayout.template\u001b[1;34m(self)\u001b[0m\n\u001b[0;32m   3492\u001b[0m \u001b[39m@property\u001b[39m\n\u001b[0;32m   3493\u001b[0m \u001b[39mdef\u001b[39;00m \u001b[39mtemplate\u001b[39m(\u001b[39mself\u001b[39m):\n\u001b[0;32m   3494\u001b[0m \u001b[39m    \u001b[39m\u001b[39m\"\"\"\u001b[39;00m\n\u001b[0;32m   3495\u001b[0m \u001b[39m    Default attributes to be applied to the plot. This should be a\u001b[39;00m\n\u001b[0;32m   3496\u001b[0m \u001b[39m    dict with format: `{'layout': layoutTemplate, 'data':\u001b[39;00m\n\u001b[1;32m   (...)\u001b[0m\n\u001b[0;32m   3544\u001b[0m \u001b[39m    plotly.graph_objs.layout.Template\u001b[39;00m\n\u001b[0;32m   3545\u001b[0m \u001b[39m    \"\"\"\u001b[39;00m\n\u001b[1;32m-> 3546\u001b[0m     \u001b[39mreturn\u001b[39;00m \u001b[39mself\u001b[39;49m[\u001b[39m\"\u001b[39;49m\u001b[39mtemplate\u001b[39;49m\u001b[39m\"\u001b[39;49m]\n",
      "File \u001b[1;32mc:\\Users\\PC\\AppData\\Local\\Programs\\Python\\Python311\\Lib\\site-packages\\plotly\\basedatatypes.py:5823\u001b[0m, in \u001b[0;36mBaseLayoutType.__getitem__\u001b[1;34m(self, prop)\u001b[0m\n\u001b[0;32m   5819\u001b[0m \u001b[39m\u001b[39m\u001b[39m\"\"\"\u001b[39;00m\n\u001b[0;32m   5820\u001b[0m \u001b[39mCustom __getitem__ that handles dynamic subplot properties\u001b[39;00m\n\u001b[0;32m   5821\u001b[0m \u001b[39m\"\"\"\u001b[39;00m\n\u001b[0;32m   5822\u001b[0m prop \u001b[39m=\u001b[39m \u001b[39mself\u001b[39m\u001b[39m.\u001b[39m_strip_subplot_suffix_of_1(prop)\n\u001b[1;32m-> 5823\u001b[0m \u001b[39mreturn\u001b[39;00m \u001b[39msuper\u001b[39;49m(BaseLayoutHierarchyType, \u001b[39mself\u001b[39;49m)\u001b[39m.\u001b[39;49m\u001b[39m__getitem__\u001b[39;49m(prop)\n",
      "File \u001b[1;32mc:\\Users\\PC\\AppData\\Local\\Programs\\Python\\Python311\\Lib\\site-packages\\plotly\\basedatatypes.py:4699\u001b[0m, in \u001b[0;36mBasePlotlyType.__getitem__\u001b[1;34m(self, prop)\u001b[0m\n\u001b[0;32m   4694\u001b[0m \u001b[39mif\u001b[39;00m prop \u001b[39mnot\u001b[39;00m \u001b[39min\u001b[39;00m \u001b[39mself\u001b[39m\u001b[39m.\u001b[39m_valid_props:\n\u001b[0;32m   4695\u001b[0m     \u001b[39mself\u001b[39m\u001b[39m.\u001b[39m_raise_on_invalid_property_error(_error_to_raise\u001b[39m=\u001b[39mPlotlyKeyError)(\n\u001b[0;32m   4696\u001b[0m         prop\n\u001b[0;32m   4697\u001b[0m     )\n\u001b[1;32m-> 4699\u001b[0m validator \u001b[39m=\u001b[39m \u001b[39mself\u001b[39;49m\u001b[39m.\u001b[39;49m_get_validator(prop)\n\u001b[0;32m   4701\u001b[0m \u001b[39mif\u001b[39;00m \u001b[39misinstance\u001b[39m(validator, CompoundValidator):\n\u001b[0;32m   4702\u001b[0m     \u001b[39mif\u001b[39;00m \u001b[39mself\u001b[39m\u001b[39m.\u001b[39m_compound_props\u001b[39m.\u001b[39mget(prop, \u001b[39mNone\u001b[39;00m) \u001b[39mis\u001b[39;00m \u001b[39mNone\u001b[39;00m:\n\u001b[0;32m   4703\u001b[0m         \u001b[39m# Init compound objects\u001b[39;00m\n",
      "File \u001b[1;32mc:\\Users\\PC\\AppData\\Local\\Programs\\Python\\Python311\\Lib\\site-packages\\plotly\\basedatatypes.py:4320\u001b[0m, in \u001b[0;36mBasePlotlyType._get_validator\u001b[1;34m(self, prop)\u001b[0m\n\u001b[0;32m   4317\u001b[0m \u001b[39mdef\u001b[39;00m \u001b[39m_get_validator\u001b[39m(\u001b[39mself\u001b[39m, prop):\n\u001b[0;32m   4318\u001b[0m     \u001b[39mfrom\u001b[39;00m \u001b[39m.\u001b[39;00m\u001b[39mvalidator_cache\u001b[39;00m \u001b[39mimport\u001b[39;00m ValidatorCache\n\u001b[1;32m-> 4320\u001b[0m     \u001b[39mreturn\u001b[39;00m ValidatorCache\u001b[39m.\u001b[39;49mget_validator(\u001b[39mself\u001b[39;49m\u001b[39m.\u001b[39;49m_path_str, prop)\n",
      "File \u001b[1;32mc:\\Users\\PC\\AppData\\Local\\Programs\\Python\\Python311\\Lib\\site-packages\\plotly\\validator_cache.py:29\u001b[0m, in \u001b[0;36mValidatorCache.get_validator\u001b[1;34m(parent_path, prop_name)\u001b[0m\n\u001b[0;32m     26\u001b[0m         lookup_name \u001b[39m=\u001b[39m lookup_name \u001b[39mor\u001b[39;00m prop_name\n\u001b[0;32m     27\u001b[0m         class_name \u001b[39m=\u001b[39m lookup_name\u001b[39m.\u001b[39mtitle() \u001b[39m+\u001b[39m \u001b[39m\"\u001b[39m\u001b[39mValidator\u001b[39m\u001b[39m\"\u001b[39m\n\u001b[0;32m     28\u001b[0m         validator \u001b[39m=\u001b[39m \u001b[39mgetattr\u001b[39m(\n\u001b[1;32m---> 29\u001b[0m             importlib\u001b[39m.\u001b[39;49mimport_module(\u001b[39m\"\u001b[39;49m\u001b[39mplotly.validators.\u001b[39;49m\u001b[39m\"\u001b[39;49m \u001b[39m+\u001b[39;49m parent_path),\n\u001b[0;32m     30\u001b[0m             class_name,\n\u001b[0;32m     31\u001b[0m         )(plotly_name\u001b[39m=\u001b[39mprop_name)\n\u001b[0;32m     32\u001b[0m     ValidatorCache\u001b[39m.\u001b[39m_cache[key] \u001b[39m=\u001b[39m validator\n\u001b[0;32m     34\u001b[0m \u001b[39mreturn\u001b[39;00m ValidatorCache\u001b[39m.\u001b[39m_cache[key]\n",
      "File \u001b[1;32mc:\\Users\\PC\\AppData\\Local\\Programs\\Python\\Python311\\Lib\\importlib\\__init__.py:126\u001b[0m, in \u001b[0;36mimport_module\u001b[1;34m(name, package)\u001b[0m\n\u001b[0;32m    124\u001b[0m             \u001b[39mbreak\u001b[39;00m\n\u001b[0;32m    125\u001b[0m         level \u001b[39m+\u001b[39m\u001b[39m=\u001b[39m \u001b[39m1\u001b[39m\n\u001b[1;32m--> 126\u001b[0m \u001b[39mreturn\u001b[39;00m _bootstrap\u001b[39m.\u001b[39;49m_gcd_import(name[level:], package, level)\n",
      "File \u001b[1;32m<frozen importlib._bootstrap>:1206\u001b[0m, in \u001b[0;36m_gcd_import\u001b[1;34m(name, package, level)\u001b[0m\n",
      "File \u001b[1;32m<frozen importlib._bootstrap>:1178\u001b[0m, in \u001b[0;36m_find_and_load\u001b[1;34m(name, import_)\u001b[0m\n",
      "File \u001b[1;32m<frozen importlib._bootstrap>:1142\u001b[0m, in \u001b[0;36m_find_and_load_unlocked\u001b[1;34m(name, import_)\u001b[0m\n",
      "\u001b[1;31mModuleNotFoundError\u001b[0m: No module named 'plotly.validators.layout'"
     ]
    }
   ],
   "source": [
    "##creating an empty figure using go.Figure()\n",
    "fig=go.Figure()\n",
    "fig"
   ]
  },
  {
   "cell_type": "code",
   "execution_count": null,
   "metadata": {},
   "outputs": [],
   "source": []
  }
 ],
 "metadata": {
  "kernelspec": {
   "display_name": "Python 3",
   "language": "python",
   "name": "python3"
  },
  "language_info": {
   "codemirror_mode": {
    "name": "ipython",
    "version": 3
   },
   "file_extension": ".py",
   "mimetype": "text/x-python",
   "name": "python",
   "nbconvert_exporter": "python",
   "pygments_lexer": "ipython3",
   "version": "3.11.2"
  },
  "orig_nbformat": 4
 },
 "nbformat": 4,
 "nbformat_minor": 2
}

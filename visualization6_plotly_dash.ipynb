{
 "cells": [
  {
   "cell_type": "code",
   "execution_count": 1,
   "metadata": {},
   "outputs": [],
   "source": [
    "# Plotly graph objects and Plotly express libraries to plot different types of charts"
   ]
  },
  {
   "cell_type": "code",
   "execution_count": 2,
   "metadata": {},
   "outputs": [],
   "source": [
    "# Plotly Libraries\n",
    "# plotly.graph_objects: This is a low level interface to figures, traces and layout. The Plotly graph objects module \n",
    "# provides an automatically generated hierarchy of classes ( figures, traces, and layout) called graph objects. \n",
    "# These graph objects represent figures with a top-level class plotly.graph_objects.Figure."
   ]
  },
  {
   "cell_type": "code",
   "execution_count": 3,
   "metadata": {},
   "outputs": [],
   "source": [
    "# plotly.express: Plotly express is a high-level wrapper for Plotly. It is a recommended starting point for creating \n",
    "# the most common figures provided by Plotly using a simpler syntax. It uses graph objects internally. Now let us use \n",
    "# these libraries to plot some charts We will start with plotly_graph_objects to plot line and scatter plots"
   ]
  },
  {
   "cell_type": "code",
   "execution_count": 4,
   "metadata": {},
   "outputs": [],
   "source": [
    "# Getting Started with Different Chart types in Plotly"
   ]
  },
  {
   "cell_type": "code",
   "execution_count": 6,
   "metadata": {},
   "outputs": [],
   "source": [
    "# Import required libraries\n",
    "import pandas as pd\n",
    "import numpy as np\n",
    "import plotly\n",
    "import plotly.express as px\n",
    "import plotly.graph_objects as go"
   ]
  },
  {
   "cell_type": "code",
   "execution_count": 7,
   "metadata": {},
   "outputs": [],
   "source": [
    "# # 1. Scatter Plot\n",
    "# # A scatter plot shows the relationship between 2 variables on the x and y-axis. The data points here appear \n",
    "# scattered when plotted on a two-dimensional plane. Using scatter plots, we can create exciting visualizations \n",
    "# to express various relationships, such as:\n",
    "\n",
    "# # Height vs weight of persons\n",
    "# # Engine size vs automobile price\n",
    "# # # Exercise time vs Body Fat"
   ]
  },
  {
   "cell_type": "code",
   "execution_count": 8,
   "metadata": {},
   "outputs": [],
   "source": [
    "##Example 1: illustrating the income vs age of people in a scatter plot\n",
    "\n",
    "age_array=np.random.randint(25,55,60)"
   ]
  },
  {
   "cell_type": "code",
   "execution_count": 9,
   "metadata": {},
   "outputs": [],
   "source": [
    "# Defining an array containing salesamount values \n",
    "income_array=np.random.randint(300000,700000,3000000)"
   ]
  },
  {
   "cell_type": "code",
   "execution_count": null,
   "metadata": {},
   "outputs": [],
   "source": []
  }
 ],
 "metadata": {
  "kernelspec": {
   "display_name": "Python 3",
   "language": "python",
   "name": "python3"
  },
  "language_info": {
   "codemirror_mode": {
    "name": "ipython",
    "version": 3
   },
   "file_extension": ".py",
   "mimetype": "text/x-python",
   "name": "python",
   "nbconvert_exporter": "python",
   "pygments_lexer": "ipython3",
   "version": "3.11.2"
  },
  "orig_nbformat": 4
 },
 "nbformat": 4,
 "nbformat_minor": 2
}
